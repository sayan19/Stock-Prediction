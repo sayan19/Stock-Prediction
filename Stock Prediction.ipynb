{
 "cells": [
  {
   "cell_type": "code",
   "execution_count": 14,
   "metadata": {},
   "outputs": [
    {
     "name": "stdout",
     "output_type": "stream",
     "text": [
      "              Open    High    Low  Close      Volume  Ex-Dividend  \\\n",
      "Date                                                                \n",
      "2018-03-21  92.930  94.050  92.21  92.48  23753263.0          0.0   \n",
      "2018-03-22  91.265  91.750  89.66  89.79  37578166.0          0.0   \n",
      "2018-03-23  89.500  90.460  87.08  87.18  42159397.0          0.0   \n",
      "2018-03-26  90.610  94.000  90.40  93.78  55031149.0          0.0   \n",
      "2018-03-27  94.940  95.139  88.51  89.47  53704562.0          0.0   \n",
      "\n",
      "            Split Ratio  Adj. Open  Adj. High  Adj. Low  Adj. Close  \\\n",
      "Date                                                                  \n",
      "2018-03-21          1.0     92.930     94.050     92.21       92.48   \n",
      "2018-03-22          1.0     91.265     91.750     89.66       89.79   \n",
      "2018-03-23          1.0     89.500     90.460     87.08       87.18   \n",
      "2018-03-26          1.0     90.610     94.000     90.40       93.78   \n",
      "2018-03-27          1.0     94.940     95.139     88.51       89.47   \n",
      "\n",
      "            Adj. Volume  \n",
      "Date                     \n",
      "2018-03-21   23753263.0  \n",
      "2018-03-22   37578166.0  \n",
      "2018-03-23   42159397.0  \n",
      "2018-03-26   55031149.0  \n",
      "2018-03-27   53704562.0  \n",
      "            Adj. Close  Prediction\n",
      "Date                              \n",
      "2018-03-21       92.48         NaN\n",
      "2018-03-22       89.79         NaN\n",
      "2018-03-23       87.18         NaN\n",
      "2018-03-26       93.78         NaN\n",
      "2018-03-27       89.47         NaN\n",
      "confidence:  0.9871446392879873\n",
      "[91.95299234 92.95757775 94.853989   94.17743148 94.91549423 93.65463702\n",
      " 93.91090881 96.28911103 97.68322957 96.43262323 95.99183575 95.04875556\n",
      " 95.253773   95.85857442 95.53054653 96.0840936  96.66839328 98.83132719\n",
      " 99.06709723 96.64789153 96.07384272 96.41212149 96.84265809 95.08975905\n",
      " 95.33577997 94.66947331 91.91198885 89.23651136 96.00208662 91.58396096]\n"
     ]
    },
    {
     "data": {
      "text/plain": [
       "[<matplotlib.lines.Line2D at 0x1b9fcf3ce08>]"
      ]
     },
     "execution_count": 14,
     "metadata": {},
     "output_type": "execute_result"
    },
    {
     "data": {
      "image/png": "[encoded data removed]",
      "text/plain": [
       "<Figure size 432x288 with 1 Axes>"
      ]
     },
     "metadata": {
      "needs_background": "light"
     },
     "output_type": "display_data"
    }
   ],
   "source": [
    "import quandl\n",
    "import pandas as pd\n",
    "import numpy as np\n",
    "import datetime\n",
    "\n",
    "from sklearn.linear_model import LinearRegression\n",
    "from sklearn import preprocessing, svm\n",
    "from sklearn.model_selection import train_test_split\n",
    "\n",
    "df=quandl.get(\"WIKI/MSFT\")\n",
    "\n",
    "print(df.tail())\n",
    "\n",
    "df=df[['Adj. Close']]\n",
    "\n",
    "forecast_out = int(30) #predicting 30 days into future\n",
    "df['Prediction'] = df[['Adj. Close']].shift(-forecast_out) #label column with data shifted 30 units up\n",
    "print(df.tail())\n",
    "\n",
    "x = np.array(df.drop(['Prediction'], 1))\n",
    "x = preprocessing.scale(x)\n",
    "\n",
    "x_forecast = x[-forecast_out:] #set x_forecast equal to last 30\n",
    "x=x[:-forecast_out] # remove last 30 from x\n",
    "\n",
    "y=np.array(df['Prediction'])\n",
    "y=y[:-forecast_out]\n",
    "\n",
    "x_train, x_test, y_train, y_test = train_test_split(x, y, test_size = 0.2)\n",
    "\n",
    "#Training\n",
    "clf=LinearRegression()\n",
    "clf.fit(x_train,y_train)\n",
    "#Testing\n",
    "confidence=clf.score(x_test, y_test)\n",
    "print(\"confidence: \", confidence)\n",
    "\n",
    "forecast_prediction = clf.predict(x_forecast)\n",
    "print(forecast_prediction)\n",
    "\n",
    "x_values = np.array([1,2,3,4,5,6,7,8,9,10,11,12,13,14,15,16,17,18,19,20,21,22,23,24,25,26,27,28,29,30])\n",
    "import matplotlib.pyplot as plt\n",
    "plt.title(\"Estimating Future Price of Microsoft Stock\")\n",
    "y_values = forecast_prediction\n",
    "plt.plot(x_values, y_values, color='#29d7e3', label=\"data\")"
   ]
  },
  {
   "cell_type": "markdown",
   "metadata": {},
   "source": []
  }
 ],
 "metadata": {
  "kernelspec": {
   "display_name": "Python 3",
   "language": "python",
   "name": "python3"
  },
  "language_info": {
   "codemirror_mode": {
    "name": "ipython",
    "version": 3
   },
   "file_extension": ".py",
   "mimetype": "text/x-python",
   "name": "python",
   "nbconvert_exporter": "python",
   "pygments_lexer": "ipython3",
   "version": "3.7.6"
  }
 },
 "nbformat": 4,
 "nbformat_minor": 4
}
